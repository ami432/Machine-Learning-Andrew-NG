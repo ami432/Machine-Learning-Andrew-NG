{
 "cells": [
  {
   "cell_type": "code",
   "execution_count": 9,
   "metadata": {},
   "outputs": [],
   "source": [
    "import os\n",
    "import imageio\n",
    "images = []\n",
    "\n",
    "FLAME_MODEL_TEST_DIR = 'Image_to_Gif/'\n",
    "Flame_modeltest_images = [FLAME_MODEL_TEST_DIR+i for i in os.listdir(FLAME_MODEL_TEST_DIR)]\n",
    "\n",
    "\n",
    "for filename in Flame_modeltest_images:\n",
    "    images.append(imageio.imread(filename))\n",
    "imageio.mimsave('Image_to_Gif/Reflected_Sunlight.gif', images)"
   ]
  },
  {
   "cell_type": "code",
   "execution_count": null,
   "metadata": {},
   "outputs": [],
   "source": []
  }
 ],
 "metadata": {
  "kernelspec": {
   "display_name": "Python (opencvenv)",
   "language": "python",
   "name": "opencvenv"
  },
  "language_info": {
   "codemirror_mode": {
    "name": "ipython",
    "version": 3
   },
   "file_extension": ".py",
   "mimetype": "text/x-python",
   "name": "python",
   "nbconvert_exporter": "python",
   "pygments_lexer": "ipython3",
   "version": "3.5.5"
  }
 },
 "nbformat": 4,
 "nbformat_minor": 2
}
